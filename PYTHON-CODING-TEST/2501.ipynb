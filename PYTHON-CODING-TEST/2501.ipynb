{
 "cells": [
  {
   "attachments": {},
   "cell_type": "markdown",
   "metadata": {},
   "source": [
    "https://www.acmicpc.net/problem/2501"
   ]
  },
  {
   "cell_type": "code",
   "execution_count": null,
   "metadata": {},
   "outputs": [],
   "source": [
    "# try 1\n",
    "n, s = map(int, input().split())\n",
    "list_ = []\n",
    "for i in range(1, n+1):\n",
    "    if n%i == 0:\n",
    "        list_.append(i)\n",
    "\n",
    "if len(list_) < s:\n",
    "    print(0)\n",
    "else:\n",
    "    print(list_[s-1])\n"
   ]
  },
  {
   "cell_type": "code",
   "execution_count": null,
   "metadata": {},
   "outputs": [],
   "source": [
    "# try 2\n",
    "# n/2보다 큰 약수는 n 자기자신 뿐..인것이었다...\n",
    "\n",
    "n, s = map(int, input().split())\n",
    "list_ = []\n",
    "for i in range(1, n//2 + 1):\n",
    "    if n%i == 0:\n",
    "        list_.append(i)\n",
    "list_.append(n)\n",
    "\n",
    "if len(list_) < s:\n",
    "    print(0)\n",
    "else:\n",
    "    print(list_[s-1])"
   ]
  }
 ],
 "metadata": {
  "kernelspec": {
   "display_name": "Python 3",
   "language": "python",
   "name": "python3"
  },
  "language_info": {
   "codemirror_mode": {
    "name": "ipython",
    "version": 3
   },
   "file_extension": ".py",
   "mimetype": "text/x-python",
   "name": "python",
   "nbconvert_exporter": "python",
   "pygments_lexer": "ipython3",
   "version": "3.11.0"
  },
  "orig_nbformat": 4,
  "vscode": {
   "interpreter": {
    "hash": "b41c220e7d2935a45584e34535edc916a3c644734cca2e2052ae971e35fe6955"
   }
  }
 },
 "nbformat": 4,
 "nbformat_minor": 2
}
