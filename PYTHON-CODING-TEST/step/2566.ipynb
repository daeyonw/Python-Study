{
 "cells": [
  {
   "attachments": {},
   "cell_type": "markdown",
   "metadata": {},
   "source": [
    "https://www.acmicpc.net/problem/2566"
   ]
  },
  {
   "cell_type": "code",
   "execution_count": null,
   "metadata": {},
   "outputs": [],
   "source": [
    "# 첫 시도 풀이\n",
    "\n",
    "list1 = list(map(int, input().split()))\n",
    "list2 = list(map(int, input().split()))\n",
    "list3 = list(map(int, input().split()))\n",
    "list4 = list(map(int, input().split()))\n",
    "list5 = list(map(int, input().split()))\n",
    "list6 = list(map(int, input().split()))\n",
    "list7 = list(map(int, input().split()))\n",
    "list8 = list(map(int, input().split()))\n",
    "list9 = list(map(int, input().split()))\n",
    "\n",
    "listOfList = [list1, list2, list3, list4, list5, list6, list7, list8, list9]\n",
    "maxList = [max(list1),max(list2),max(list3),max(list4),max(list5),max(list6),max(list7),max(list8),max(list9)]\n",
    "maxNum = max(maxList)\n",
    "\n",
    "maxIndex = maxList.index(maxNum)\n",
    "maxIndex2 = listOfList[maxIndex].index(maxNum)\n",
    "\n",
    "print(maxNum)\n",
    "print(maxIndex + 1, maxIndex2 + 1)"
   ]
  },
  {
   "cell_type": "code",
   "execution_count": null,
   "metadata": {},
   "outputs": [],
   "source": [
    "# 다른 풀이\n",
    "# 1차원으로 나열 후 몫과 나머지로 푸는 방법\n",
    "# list끼리 덧셈하면 합쳐짐\n",
    "\n",
    "array = []\n",
    "for i in range(9):\n",
    "    array += list(map(int, input().split()))\n",
    "\n",
    "maxNum = max(array)\n",
    "maxIndex = array.index(maxNum)\n",
    "\n",
    "print(maxNum)\n",
    "print(maxIndex/9 + 1, maxIndex%9 + 1)"
   ]
  }
 ],
 "metadata": {
  "language_info": {
   "name": "python"
  },
  "orig_nbformat": 4
 },
 "nbformat": 4,
 "nbformat_minor": 2
}
