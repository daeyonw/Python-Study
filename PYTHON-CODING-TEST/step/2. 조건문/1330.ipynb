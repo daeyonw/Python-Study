{
 "cells": [
  {
   "cell_type": "code",
   "execution_count": null,
   "metadata": {},
   "outputs": [],
   "source": [
    "# 입력된 type이 str이기 때문에\n",
    "# int로 바꿔주는 것이 핵심\n",
    "# 파이썬은 string 비교 연산시 한글자 한글자 비교함\n",
    "# 100 99 입력하면 <가 나옴\n",
    "# sol 1처럼 int함수를 이용해 변환하는 것을 생각했으나\n",
    "# sol 2처럼 map을 사용할 줄 알아야 하겠음"
   ]
  },
  {
   "cell_type": "code",
   "execution_count": null,
   "metadata": {},
   "outputs": [],
   "source": [
    "a,b = input().split(' ')\n",
    "a = int(a)\n",
    "b = int(b)\n",
    "\n",
    "if a > b:\n",
    "    print('>')\n",
    "elif a < b:\n",
    "    print('<')\n",
    "elif a == b:\n",
    "    print('==')\n"
   ]
  },
  {
   "cell_type": "code",
   "execution_count": null,
   "metadata": {},
   "outputs": [],
   "source": [
    "a,b = map(int,input().split())\n",
    "\n",
    "if a>b:\n",
    "    print(\">\")\n",
    "elif a<b:\n",
    "    print(\"<\")\n",
    "else:\n",
    "    print(\"==\")\n"
    
   ]
  }
 ],
 "metadata": {
  "kernelspec": {
   "display_name": "Python 3.11.0 64-bit",
   "language": "python",
   "name": "python3"
  },
  "language_info": {
   "name": "python",
   "version": "3.11.0"
  },
  "orig_nbformat": 4,
  "vscode": {
   "interpreter": {
    "hash": "b41c220e7d2935a45584e34535edc916a3c644734cca2e2052ae971e35fe6955"
   }
  }
 },
 "nbformat": 4,
 "nbformat_minor": 2
}
