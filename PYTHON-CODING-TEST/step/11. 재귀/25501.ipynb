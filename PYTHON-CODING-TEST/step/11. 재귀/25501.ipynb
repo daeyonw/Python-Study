{
 "cells": [
  {
   "attachments": {},
   "cell_type": "markdown",
   "metadata": {},
   "source": [
    "https://www.acmicpc.net/problem/25501"
   ]
  },
  {
   "cell_type": "code",
   "execution_count": null,
   "metadata": {},
   "outputs": [],
   "source": [
    "# try 1\n",
    "\n",
    "cnt = [0]*int(input())\n",
    "\n",
    "def recursion(s, l, r, i):\n",
    "    cnt[i-1] += 1 \n",
    "    if l >= r:\n",
    "        return 1\n",
    "    elif s[l] != s[r]:\n",
    "        return 0\n",
    "    else:\n",
    "        return recursion(s, l+1, r-1, i)\n",
    "\n",
    "def isPalindrome(s, i):\n",
    "    return recursion(s, 0, len(s)-1, i)\n",
    "\n",
    "for i in range(len(cnt)):\n",
    "    print(isPalindrome(input(), i), cnt[i-1])\n"
   ]
  },
  {
   "cell_type": "code",
   "execution_count": null,
   "metadata": {},
   "outputs": [],
   "source": [
    "# try 2 : l의 횟수를 구하면 재귀의 횟수를 알 수 있음\n",
    "\n",
    "def recursion(s, l, r):\n",
    "    if l >= r: \n",
    "        return 1,l+1\n",
    "    elif s[l] != s[r]: \n",
    "        return 0,l+1\n",
    "    else: \n",
    "        return recursion(s, l+1, r-1)\n",
    "\n",
    "def isPalindrome(s):\n",
    "    return recursion(s, 0, len(s)-1)\n",
    "\n",
    "n = int(input())\n",
    "\n",
    "for i in range(n):\n",
    "    a,b=isPalindrome(input())\n",
    "    print(a,b)"
   ]
  }
 ],
 "metadata": {
  "kernelspec": {
   "display_name": "Python 3",
   "language": "python",
   "name": "python3"
  },
  "language_info": {
   "codemirror_mode": {
    "name": "ipython",
    "version": 3
   },
   "file_extension": ".py",
   "mimetype": "text/x-python",
   "name": "python",
   "nbconvert_exporter": "python",
   "pygments_lexer": "ipython3",
   "version": "3.11.0"
  },
  "orig_nbformat": 4,
  "vscode": {
   "interpreter": {
    "hash": "b41c220e7d2935a45584e34535edc916a3c644734cca2e2052ae971e35fe6955"
   }
  }
 },
 "nbformat": 4,
 "nbformat_minor": 2
}
