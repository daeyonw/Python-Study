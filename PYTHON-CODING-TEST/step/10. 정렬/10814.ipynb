{
 "cells": [
  {
   "attachments": {},
   "cell_type": "markdown",
   "metadata": {},
   "source": [
    "https://www.acmicpc.net/problem/10814"
   ]
  },
  {
   "cell_type": "code",
   "execution_count": 3,
   "metadata": {},
   "outputs": [
    {
     "name": "stdout",
     "output_type": "stream",
     "text": [
      "20 sunyoung\n",
      "21 junkyu\n",
      "21 dohyun\n"
     ]
    }
   ],
   "source": [
    "n = int(input())\n",
    "list_ = []\n",
    "\n",
    "for i in range(n):\n",
    "    a,b = input().split()\n",
    "    list_.append([int(a),b])\n",
    "\n",
    "for i in sorted(list_,key=lambda x:x[0]):\n",
    "    print(i[0], i[1])\n"
   ]
  }
 ],
 "metadata": {
  "kernelspec": {
   "display_name": "Python 3",
   "language": "python",
   "name": "python3"
  },
  "language_info": {
   "codemirror_mode": {
    "name": "ipython",
    "version": 3
   },
   "file_extension": ".py",
   "mimetype": "text/x-python",
   "name": "python",
   "nbconvert_exporter": "python",
   "pygments_lexer": "ipython3",
   "version": "3.11.0"
  },
  "orig_nbformat": 4,
  "vscode": {
   "interpreter": {
    "hash": "b41c220e7d2935a45584e34535edc916a3c644734cca2e2052ae971e35fe6955"
   }
  }
 },
 "nbformat": 4,
 "nbformat_minor": 2
}
