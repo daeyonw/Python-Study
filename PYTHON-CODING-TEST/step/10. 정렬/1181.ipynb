{
 "cells": [
  {
   "attachments": {},
   "cell_type": "markdown",
   "metadata": {},
   "source": [
    "https://www.acmicpc.net/problem/1181"
   ]
  },
  {
   "cell_type": "code",
   "execution_count": 5,
   "metadata": {},
   "outputs": [
    {
     "name": "stdout",
     "output_type": "stream",
     "text": [
      "a\n",
      "b\n",
      "c\n",
      "d\n",
      "abcd\n"
     ]
    }
   ],
   "source": [
    "n = int(input())\n",
    "list_ = []\n",
    "for i in range(n):\n",
    "    list_.append(input())\n",
    "\n",
    "list_ = list(set(list_))\n",
    "list_ = sorted(sorted(list_), key=len)\n",
    "for i in list_:\n",
    "    print(i)"
   ]
  }
 ],
 "metadata": {
  "kernelspec": {
   "display_name": "Python 3.11.0 64-bit",
   "language": "python",
   "name": "python3"
  },
  "language_info": {
   "codemirror_mode": {
    "name": "ipython",
    "version": 3
   },
   "file_extension": ".py",
   "mimetype": "text/x-python",
   "name": "python",
   "nbconvert_exporter": "python",
   "pygments_lexer": "ipython3",
   "version": "3.11.0"
  },
  "orig_nbformat": 4,
  "vscode": {
   "interpreter": {
    "hash": "b41c220e7d2935a45584e34535edc916a3c644734cca2e2052ae971e35fe6955"
   }
  }
 },
 "nbformat": 4,
 "nbformat_minor": 2
}
