{
 "cells": [
  {
   "attachments": {},
   "cell_type": "markdown",
   "metadata": {},
   "source": [
    "https://www.acmicpc.net/problem/11650"
   ]
  },
  {
   "cell_type": "code",
   "execution_count": null,
   "metadata": {},
   "outputs": [],
   "source": [
    "# sort기능은 리스트에도 적용됨 : 앞 인덱스부터 비교하고 같으면 다음 인덱스 비교하여 정렬\n",
    "\n",
    "n = int(input())\n",
    "list_ = []\n",
    "\n",
    "for i in range(n):\n",
    "    list_.append(list(map(int, input().split())))\n",
    "\n",
    "for i in sorted(list_):\n",
    "    print(i[0], i[1])"
   ]
  }
 ],
 "metadata": {
  "language_info": {
   "name": "python"
  },
  "orig_nbformat": 4
 },
 "nbformat": 4,
 "nbformat_minor": 2
}
