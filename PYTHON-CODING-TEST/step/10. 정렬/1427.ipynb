{
 "cells": [
  {
   "attachments": {},
   "cell_type": "markdown",
   "metadata": {},
   "source": [
    "https://www.acmicpc.net/problem/1427"
   ]
  },
  {
   "cell_type": "code",
   "execution_count": null,
   "metadata": {},
   "outputs": [],
   "source": [
    "# try 1\n",
    "\n",
    "num = int(input())\n",
    "list_ = []\n",
    "while num != 0:\n",
    "    try:\n",
    "        list_.append(num%10)\n",
    "        num = num//10\n",
    "    except:\n",
    "        break\n",
    "\n",
    "list_.sort()\n",
    "list_.reverse()\n",
    "for i in range(len(list_)):\n",
    "    print(list_[i], end=\"\")"
   ]
  },
  {
   "cell_type": "code",
   "execution_count": 1,
   "metadata": {},
   "outputs": [
    {
     "name": "stdout",
     "output_type": "stream",
     "text": [
      "4432\n"
     ]
    }
   ],
   "source": [
    "# 더 좋은 방법\n",
    "# [i for i in x] 같은 표현 방식을 list comprehension 이라고 함\n",
    "# 복잡한 변환을 한줄의 코드로 쓸 수 있다\n",
    "# sorted 함수\n",
    "\n",
    "x = input()\n",
    "\n",
    "list_x = sorted([int(i) for i in x], reverse=True)\n",
    "\n",
    "str_res = ''.join([str(i) for i in list_x])\n",
    "\n",
    "print(int(str_res))"
   ]
  }
 ],
 "metadata": {
  "kernelspec": {
   "display_name": "Python 3.11.0 64-bit",
   "language": "python",
   "name": "python3"
  },
  "language_info": {
   "codemirror_mode": {
    "name": "ipython",
    "version": 3
   },
   "file_extension": ".py",
   "mimetype": "text/x-python",
   "name": "python",
   "nbconvert_exporter": "python",
   "pygments_lexer": "ipython3",
   "version": "3.11.0"
  },
  "orig_nbformat": 4,
  "vscode": {
   "interpreter": {
    "hash": "b41c220e7d2935a45584e34535edc916a3c644734cca2e2052ae971e35fe6955"
   }
  }
 },
 "nbformat": 4,
 "nbformat_minor": 2
}
