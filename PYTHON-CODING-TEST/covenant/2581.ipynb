{
 "cells": [
  {
   "attachments": {},
   "cell_type": "markdown",
   "metadata": {},
   "source": [
    "https://www.acmicpc.net/problem/2581"
   ]
  },
  {
   "cell_type": "code",
   "execution_count": 9,
   "metadata": {},
   "outputs": [
    {
     "name": "stdout",
     "output_type": "stream",
     "text": [
      "1\n",
      "1\n"
     ]
    }
   ],
   "source": [
    "m = int(input())\n",
    "n = int(input())\n",
    "list_ = []\n",
    "\n",
    "def finder(k):\n",
    "    if k == 1:\n",
    "        return False\n",
    "    for i in range(2, int(k**(1/2))+1):\n",
    "        if k%i == 0:\n",
    "            return False\n",
    "    return True\n",
    "        \n",
    "\n",
    "for i in range(m, n+1):\n",
    "    if finder(i):\n",
    "        list_.append(i)\n",
    "\n",
    "if len(list_) == 0:\n",
    "    print(-1)\n",
    "else:\n",
    "    print(sum(list_))\n",
    "    print(min(list_))"
   ]
  }
 ],
 "metadata": {
  "kernelspec": {
   "display_name": "Python 3",
   "language": "python",
   "name": "python3"
  },
  "language_info": {
   "codemirror_mode": {
    "name": "ipython",
    "version": 3
   },
   "file_extension": ".py",
   "mimetype": "text/x-python",
   "name": "python",
   "nbconvert_exporter": "python",
   "pygments_lexer": "ipython3",
   "version": "3.11.0"
  },
  "orig_nbformat": 4,
  "vscode": {
   "interpreter": {
    "hash": "b41c220e7d2935a45584e34535edc916a3c644734cca2e2052ae971e35fe6955"
   }
  }
 },
 "nbformat": 4,
 "nbformat_minor": 2
}
